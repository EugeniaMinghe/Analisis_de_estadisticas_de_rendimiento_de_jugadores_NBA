{
 "cells": [
  {
   "cell_type": "markdown",
   "metadata": {},
   "source": [
    "# Modelo de clasificación binaria para predecir si el contrato de un jugador debería ser renovado o no."
   ]
  },
  {
   "cell_type": "markdown",
   "metadata": {},
   "source": [
    "#### Usaremos la librería SciKitLearn para implementar una técnica de machine learning llamada RandomForestClassifier, la cual combina resultados de varios árboles de decisión para formar una predicción final. Obtendremos de la predicción el valor de una variable binaria \"y\", que puede ser 1 (se recomienda renovar) o 0 (No se recomienda renovar)."
   ]
  },
  {
   "cell_type": "code",
   "execution_count": 1,
   "metadata": {},
   "outputs": [],
   "source": [
    "# Instalacion de SciKit-Learn\n",
    "#!pip install scikit-learn"
   ]
  },
  {
   "cell_type": "code",
   "execution_count": 2,
   "metadata": {},
   "outputs": [],
   "source": [
    "#Importamos librerías necesarias y modelos de machine learning de SciKitLearn \n",
    "import pandas as pd\n",
    "import numpy as np\n",
    "from sklearn.model_selection import train_test_split\n",
    "from sklearn.preprocessing import StandardScaler\n",
    "from sklearn.ensemble import RandomForestClassifier\n",
    "from sklearn.metrics import accuracy_score, classification_report"
   ]
  },
  {
   "cell_type": "code",
   "execution_count": 3,
   "metadata": {},
   "outputs": [],
   "source": [
    "# Cargar la tabla de los jugadores de los Lakers (21 a 24)\n",
    "df_players_lakers = pd.read_csv(r\"C:\\Users\\usuario\\Analisis_de_estadisticas_de_rendimiento_de_jugadores_NBA\\ETL\\lakers_21_24.csv\")"
   ]
  },
  {
   "cell_type": "code",
   "execution_count": 4,
   "metadata": {},
   "outputs": [],
   "source": [
    "# Ocultamos advertencias innecesarias\n",
    "import warnings\n",
    "warnings.filterwarnings('ignore')"
   ]
  },
  {
   "cell_type": "code",
   "execution_count": null,
   "metadata": {},
   "outputs": [
    {
     "name": "stdout",
     "output_type": "stream",
     "text": [
      "Precisión del modelo: 0.9474\n",
      "\n",
      "Reporte de Clasificación:\n",
      "              precision    recall  f1-score   support\n",
      "\n",
      "           0       0.94      1.00      0.97        17\n",
      "           1       1.00      0.50      0.67         2\n",
      "\n",
      "    accuracy                           0.95        19\n",
      "   macro avg       0.97      0.75      0.82        19\n",
      "weighted avg       0.95      0.95      0.94        19\n",
      "\n"
     ]
    }
   ],
   "source": [
    "# Cargamos los datos del dataframe \n",
    "df = df_players_lakers.copy()\n",
    "\n",
    "# Definimos la variable objetivo \"y\" (1 = Renovar, 0 = No renovar) según criterios de renovación típicamente considerados en NBA para unas pocas variables clave de rendimiento como fg%, ast y pts prom. por partido\n",
    "y = ((df[\"PTS\"] >= 10) & (df[\"AST\"] >= 5) & (df[\"FG%\"] >= 0.45)).astype(int)\n",
    "\n",
    "# Definimos las estadísticas a considerar por el modelo en la variable predictora \"x\" (todas las estadísticas de las que el modelo aprenderá para predecir las estadísticas clave de renovación \"y\")\n",
    "estadisticas_rendimiento_completas = [\"Age\", \"G\", \"GS\", \"MP\", \"FG\", \"FGA\", \"FG%\", \"3P\", \"3PA\", \"3P%\", \"2P\", \"2PA\", \"2P%\", \n",
    "\"FT\", \"FTA\", \"FT%\", \"ORB\", \"DRB\", \"TRB\", \"PTS\", \"AST\", \"STL\", \"BLK\", \"TOV\", \"PF\", \"eFG%\"]\n",
    "\n",
    "# Creamos dataframe de \"x\" con todas las estadisticas de rendimiento del punto anterior\n",
    "X = df[estadisticas_rendimiento_completas]\n",
    "\n",
    "# Dividimos los datos del dataframe en entrenamiento (80%) y prueba (20%)\n",
    "X_train, X_test, y_train, y_test = train_test_split(X, y, test_size=0.2, random_state=42)\n",
    "\n",
    "# Escalamos los datos para mejorar el desempeño del modelo (usamos StandardScaler)\n",
    "scaler = StandardScaler()\n",
    "X_train_scaled = scaler.fit_transform(X_train)\n",
    "X_test_scaled = scaler.transform(X_test)\n",
    "\n",
    "# Entrenamos el modelo de clasificación RandomForest\n",
    "model = RandomForestClassifier(n_estimators=100, random_state=42, class_weight='balanced') # n_estimators=100 significa que el modelo está utilizando 100 árboles de predicción\n",
    "model.fit(X_train_scaled, y_train)\n",
    "\n",
    "# Probamos el modelo. Hace predicciones a partir del 80% de los datos de entrenamiento (los que conocía) y las compara con el 20% de los datos de prueba (los que no conocía)\n",
    "y_pred = model.predict(X_test_scaled)\n",
    "\n",
    "# Evaluamos la precisión del modelo\n",
    "accuracy = accuracy_score(y_test, y_pred)\n",
    "print(f\"Precisión del modelo: {accuracy:.4f}\")\n",
    "print(\"\\nReporte de Clasificación:\")\n",
    "print(classification_report(y_test, y_pred))"
   ]
  },
  {
   "cell_type": "markdown",
   "metadata": {},
   "source": [
    "Vemos que la precision es alta tanto para 0 como para 1, pero recall (sesnibilidad o exhaustividad) es baja para 1 (renovar), significa que el modelo predice pocos jugadores para renovar (prefiere evitar falsos positivos).\n",
    "\n",
    "Si accuracy está por encima de 0.75 - 0.80, suele ser un modelo bastante bueno. Es el caso de nuestro modelo (Accuracy = 0.95)."
   ]
  },
  {
   "cell_type": "markdown",
   "metadata": {},
   "source": [
    "### Prueba del modelo con 6 jugadores (TOP 3 mejores y peores). Evalúa estadísticas promedio de los jugadores para las temporadas de interés (las 3 últimas del dataframe)."
   ]
  },
  {
   "cell_type": "code",
   "execution_count": 6,
   "metadata": {},
   "outputs": [
    {
     "data": {
      "text/html": [
       "<div>\n",
       "<style scoped>\n",
       "    .dataframe tbody tr th:only-of-type {\n",
       "        vertical-align: middle;\n",
       "    }\n",
       "\n",
       "    .dataframe tbody tr th {\n",
       "        vertical-align: top;\n",
       "    }\n",
       "\n",
       "    .dataframe thead th {\n",
       "        text-align: right;\n",
       "    }\n",
       "</style>\n",
       "<table border=\"1\" class=\"dataframe\">\n",
       "  <thead>\n",
       "    <tr style=\"text-align: right;\">\n",
       "      <th></th>\n",
       "      <th>Renovar</th>\n",
       "    </tr>\n",
       "    <tr>\n",
       "      <th>Player</th>\n",
       "      <th></th>\n",
       "    </tr>\n",
       "  </thead>\n",
       "  <tbody>\n",
       "    <tr>\n",
       "      <th>Anthony Davis</th>\n",
       "      <td>1</td>\n",
       "    </tr>\n",
       "    <tr>\n",
       "      <th>Austin Reaves</th>\n",
       "      <td>1</td>\n",
       "    </tr>\n",
       "    <tr>\n",
       "      <th>LeBron James</th>\n",
       "      <td>1</td>\n",
       "    </tr>\n",
       "    <tr>\n",
       "      <th>Isaiah Thomas</th>\n",
       "      <td>0</td>\n",
       "    </tr>\n",
       "    <tr>\n",
       "      <th>Mac McClung</th>\n",
       "      <td>0</td>\n",
       "    </tr>\n",
       "    <tr>\n",
       "      <th>Wenyen Gabriel</th>\n",
       "      <td>0</td>\n",
       "    </tr>\n",
       "  </tbody>\n",
       "</table>\n",
       "</div>"
      ],
      "text/plain": [
       "                Renovar\n",
       "Player                 \n",
       "Anthony Davis         1\n",
       "Austin Reaves         1\n",
       "LeBron James          1\n",
       "Isaiah Thomas         0\n",
       "Mac McClung           0\n",
       "Wenyen Gabriel        0"
      ]
     },
     "execution_count": 6,
     "metadata": {},
     "output_type": "execute_result"
    }
   ],
   "source": [
    "# Listamos los jugadores a evaluar\n",
    "jugadores_a_evaluar = [\"Anthony Davis\", \"Austin Reaves\", \"LeBron James\", \"Isaiah Thomas\", \"Mac McClung\", \"Wenyen Gabriel\"]\n",
    "\n",
    "# Filtramos el DataFrame con los jugadores seleccionados\n",
    "df_jugadores = df_players_lakers[df_players_lakers[\"Player\"].isin(jugadores_a_evaluar)].copy()\n",
    "\n",
    "# Agrupamos por jugador y calculamos el promedio de las estadísticas para las ultimas 3 temporadas (que son todas las del df)\n",
    "df_promedio_jugadores_3_temp = df_players_lakers.groupby(\"Player\")[X.columns].mean()\n",
    "\n",
    "# Filtrar solo los jugadores que queremos evaluar\n",
    "df_jugadores = df_promedio_jugadores_3_temp.loc[jugadores_a_evaluar].copy()\n",
    "\n",
    "# Realizar la predicción usando el modelo entrenado\n",
    "predicciones = model.predict(df_jugadores)\n",
    "\n",
    "# Agregar la predicción al DataFrame\n",
    "df_jugadores[\"Renovar\"] = predicciones\n",
    "\n",
    "# Mostrar los resultados\n",
    "df_jugadores[[\"Renovar\"]]"
   ]
  },
  {
   "cell_type": "markdown",
   "metadata": {},
   "source": [
    "En la tabla que nos devolvió la aplicación del modelo de clasificación, vemos que de los jugadores que evaluamos, los jugadores clasificados con 1 (se recomienda renovar contrato) coinciden con el top 3 mejores del dashboard, y los clasificados con 0 (No se recomienda renovar contrato) coinciden con el top 3 peores del dashboard."
   ]
  },
  {
   "cell_type": "markdown",
   "metadata": {},
   "source": [
    "### Prueba del modelo para clasificar todo el plantel actual (temporada 23-24) en base a su rendimiento durante las últimas 3 temporadas. Se decide si se recomienda o no la renovación del contrato del jugador."
   ]
  },
  {
   "cell_type": "code",
   "execution_count": 7,
   "metadata": {},
   "outputs": [
    {
     "name": "stdout",
     "output_type": "stream",
     "text": [
      "Jugadores recomendados para renovar contrato:\n",
      "                  Renovar\n",
      "Player                   \n",
      "Anthony Davis           1\n",
      "Austin Reaves           1\n",
      "D'Angelo Russell        1\n",
      "LeBron James            1\n",
      "-----------------\n",
      "Jugadores NO recomendados para renovar contrato:\n",
      "                     Renovar\n",
      "Player                      \n",
      "Alex Fudge                 0\n",
      "Cam Reddish                0\n",
      "Christian Wood             0\n",
      "Colin Castleton            0\n",
      "D'Moi Hodge                0\n",
      "Dylan Windler              0\n",
      "Gabe Vincent               0\n",
      "Harry Giles                0\n",
      "Jalen Hood-Schifino        0\n",
      "Jarred Vanderbilt          0\n",
      "Jaxson Hayes               0\n",
      "Max Christie               0\n",
      "Maxwell Lewis              0\n",
      "Rui Hachimura              0\n",
      "Skylar Mays                0\n",
      "Spencer Dinwiddie          0\n",
      "Taurean Prince             0\n"
     ]
    }
   ],
   "source": [
    "# Filtramos los jugadores de la temporada 2023-2024\n",
    "df_2023_2024 = df_players_lakers[df_players_lakers['season_year'] == '2023-2024']\n",
    "\n",
    "# Agrupamos por jugador del plantel actual y calculamos el promedio de las estadísticas\n",
    "df_plantel_actual = df_2023_2024.groupby(\"Player\")[X.columns].mean()\n",
    "\n",
    "# Realizamos la predicción usando el modelo entrenado\n",
    "predicciones = model.predict(df_plantel_actual)\n",
    "\n",
    "# Agregamos la predicción al DataFrame (nueva columna llamada \"Renovar\")\n",
    "df_plantel_actual[\"Renovar\"] = predicciones\n",
    "\n",
    "# Dividimos los jugadores a los que se recomienda renovar contrato (Renovar == 1) y a los que No (Renovar == 0)\n",
    "jugadores_a_renovar = df_plantel_actual[df_plantel_actual[\"Renovar\"] == 1]\n",
    "jugadores_no_renovar = df_plantel_actual[df_plantel_actual[\"Renovar\"] == 0]\n",
    "\n",
    "# Mostramos los jugadores recomendados para renovar contrato\n",
    "print(\"Jugadores recomendados para renovar contrato:\")\n",
    "print(jugadores_a_renovar[['Renovar']])\n",
    "\n",
    "print(\"-----------------\") \n",
    "\n",
    "# Mostramos los jugadores a los que no se recomienda renovar contrato\n",
    "print(\"Jugadores NO recomendados para renovar contrato:\")\n",
    "print(jugadores_no_renovar[['Renovar']])"
   ]
  },
  {
   "cell_type": "markdown",
   "metadata": {},
   "source": [
    "# Repetimos el modelo pero ahora basando los criterios de clasificación en estadísticas claves en defensa"
   ]
  },
  {
   "cell_type": "code",
   "execution_count": 8,
   "metadata": {},
   "outputs": [
    {
     "name": "stdout",
     "output_type": "stream",
     "text": [
      "Precisión del modelo: 1.0000\n",
      "\n",
      "Reporte de Clasificación:\n",
      "              precision    recall  f1-score   support\n",
      "\n",
      "           0       1.00      1.00      1.00        18\n",
      "           1       1.00      1.00      1.00         1\n",
      "\n",
      "    accuracy                           1.00        19\n",
      "   macro avg       1.00      1.00      1.00        19\n",
      "weighted avg       1.00      1.00      1.00        19\n",
      "\n"
     ]
    }
   ],
   "source": [
    "# Cargamos los datos del dataframe \n",
    "df = df_players_lakers.copy()\n",
    "\n",
    "# Definimos la variable objetivo \"y\" (1 = Renovar, 0 = No renovar) según criterios de renovación típicamente considerados en NBA para unas pocas variables clave de rendimiento defensivo como drb, stl, blk y orb prom. por partido\n",
    "y = ((df[\"DRB\"] >= 5) & (df[\"STL\"] >= 1) & (df[\"BLK\"] >= 2 & (df[\"ORB\"] >= 2))).astype(int)\n",
    "\n",
    "# Definimos las estadísticas a considerar por el modelo en la variable predictora \"x\" (todas las estadísticas de las que el modelo aprenderá para predecir las estadísticas clave de renovación \"y\")\n",
    "estadisticas_rendimiento_completas = [\"Age\", \"G\", \"GS\", \"MP\", \"FG\", \"FGA\", \"FG%\", \"3P\", \"3PA\", \"3P%\", \"2P\", \"2PA\", \"2P%\", \n",
    "\"FT\", \"FTA\", \"FT%\", \"ORB\", \"DRB\", \"TRB\", \"PTS\", \"AST\", \"STL\", \"BLK\", \"TOV\", \"PF\", \"eFG%\"]\n",
    "\n",
    "# Creamos dataframe de \"x\" con todas las estadisticas de rendimiento del punto anterior\n",
    "X = df[estadisticas_rendimiento_completas]\n",
    "\n",
    "# Dividimos los datos del dataframe en entrenamiento (80%) y prueba (20%)\n",
    "X_train, X_test, y_train, y_test = train_test_split(X, y, test_size=0.2, random_state=42)\n",
    "\n",
    "# Escalamos los datos para mejorar el desempeño del modelo (usamos StandardScaler)\n",
    "scaler = StandardScaler()\n",
    "X_train_scaled = scaler.fit_transform(X_train)\n",
    "X_test_scaled = scaler.transform(X_test)\n",
    "\n",
    "# Entrenamos el modelo de clasificación RandomForest\n",
    "model = RandomForestClassifier(n_estimators=100, random_state=42, class_weight='balanced') # n_estimators=100 significa que el modelo está utilizando 100 árboles de predicción\n",
    "model.fit(X_train_scaled, y_train)\n",
    "\n",
    "# Probamos el modelo (hacemos las predicciones)\n",
    "y_pred_def = model.predict(X_test_scaled)\n",
    "\n",
    "# Evaluamos la precisión del modelo \n",
    "accuracy = accuracy_score(y_test, y_pred_def)\n",
    "print(f\"Precisión del modelo: {accuracy:.4f}\")\n",
    "print(\"\\nReporte de Clasificación:\")\n",
    "print(classification_report(y_test, y_pred_def))"
   ]
  },
  {
   "cell_type": "markdown",
   "metadata": {},
   "source": [
    "### Prueba del modelo para clasificar todo el plantel actual (temporada 23-24) en base a su rendimiento según criterios DEFENSIVOS durante las últimas 3 temporadas. Se decide si se recomienda o no la renovación del contrato del jugador."
   ]
  },
  {
   "cell_type": "code",
   "execution_count": 9,
   "metadata": {},
   "outputs": [
    {
     "name": "stdout",
     "output_type": "stream",
     "text": [
      "Jugadores recomendados para renovar contrato según criterios defensivos:\n",
      "                   Renovar\n",
      "Player                    \n",
      "Anthony Davis            1\n",
      "Austin Reaves            1\n",
      "Cam Reddish              1\n",
      "Christian Wood           1\n",
      "D'Angelo Russell         1\n",
      "Jarred Vanderbilt        1\n",
      "LeBron James             1\n",
      "Max Christie             1\n",
      "Rui Hachimura            1\n",
      "Spencer Dinwiddie        1\n",
      "Taurean Prince           1\n",
      "-----------------\n",
      "Jugadores NO recomendados para renovar contrato según criterios defensivos:\n",
      "                     Renovar\n",
      "Player                      \n",
      "Alex Fudge                 0\n",
      "Colin Castleton            0\n",
      "D'Moi Hodge                0\n",
      "Dylan Windler              0\n",
      "Gabe Vincent               0\n",
      "Harry Giles                0\n",
      "Jalen Hood-Schifino        0\n",
      "Jaxson Hayes               0\n",
      "Maxwell Lewis              0\n",
      "Skylar Mays                0\n"
     ]
    }
   ],
   "source": [
    "# Filtramos los jugadores de la temporada 2023-2024\n",
    "df_2023_2024 = df_players_lakers[df_players_lakers['season_year'] == '2023-2024']\n",
    "\n",
    "# Agrupamos por jugador del plantel actual y calculamos el promedio de las estadísticas\n",
    "df_plantel_actual = df_2023_2024.groupby(\"Player\")[X.columns].mean()\n",
    "\n",
    "# Realizamos la predicción usando el modelo entrenado\n",
    "predicciones = model.predict(df_plantel_actual)\n",
    "\n",
    "# Agregamos la predicción al DataFrame (nueva columna llamada \"Renovar\")\n",
    "df_plantel_actual[\"Renovar\"] = predicciones\n",
    "\n",
    "# Dividimos los jugadores a los que se recomienda renovar contrato (Renovar == 1) y a los que No (Renovar == 0)\n",
    "jugadores_a_renovar = df_plantel_actual[df_plantel_actual[\"Renovar\"] == 1]\n",
    "jugadores_no_renovar = df_plantel_actual[df_plantel_actual[\"Renovar\"] == 0]\n",
    "\n",
    "# Mostramos los jugadores recomendados para renovar contrato\n",
    "print(\"Jugadores recomendados para renovar contrato según criterios defensivos:\")\n",
    "print(jugadores_a_renovar[['Renovar']])\n",
    "\n",
    "print(\"-----------------\") \n",
    "\n",
    "# Mostramos los jugadores a los que no se recomienda renovar contrato\n",
    "print(\"Jugadores NO recomendados para renovar contrato según criterios defensivos:\")\n",
    "print(jugadores_no_renovar[['Renovar']])"
   ]
  },
  {
   "cell_type": "markdown",
   "metadata": {},
   "source": [
    "# Conclusiones"
   ]
  },
  {
   "cell_type": "markdown",
   "metadata": {},
   "source": [
    "#### - Según el modelo de clasificación basado en estadísticas principalmente ofensivas, se recomienda renovar contrato solo a 4 jugadores de 22 del plantel actual.\n",
    "\n",
    "#### - Según el modelo de clasificación basado en estadísticas defensivas, se recomienda renovar contrato a 11 jugadores de 22 del plantel actual, pero en estos 11 se incluyen los mismos 4 recomendados por su rendimiento ofensivo. \n",
    "\n",
    "#### - Si tenemos en cuenta ambos grupos de criterios del modelo de clasificación se recomienda renovar contrato a 11 jugadores de un total de 22 del plantel actual, por lo que la mitad del plantel podría mantenerse.\n",
    "\n",
    "#### - Lista de jugadores a los que se recomienda renovar contrato:\n",
    "\n",
    "Anthony Davis            \n",
    "Austin Reaves            \n",
    "Cam Reddish              \n",
    "Christian Wood           \n",
    "D'Angelo Russell         \n",
    "Jarred Vanderbilt        \n",
    "LeBron James             \n",
    "Max Christie             \n",
    "Rui Hachimura            \n",
    "Spencer Dinwiddie        \n",
    "Taurean Prince   "
   ]
  }
 ],
 "metadata": {
  "kernelspec": {
   "display_name": "Python 3",
   "language": "python",
   "name": "python3"
  },
  "language_info": {
   "codemirror_mode": {
    "name": "ipython",
    "version": 3
   },
   "file_extension": ".py",
   "mimetype": "text/x-python",
   "name": "python",
   "nbconvert_exporter": "python",
   "pygments_lexer": "ipython3",
   "version": "3.10.8"
  }
 },
 "nbformat": 4,
 "nbformat_minor": 2
}
