{
 "cells": [
  {
   "cell_type": "code",
   "execution_count": null,
   "metadata": {},
   "outputs": [],
   "source": [
    "import sqlite3 # Módulo de Python que permite interactuar con bases de datos SQLite. Se usa para conectarse, ejecutar consultas y manejar datos.\n",
    "import pandas as pd"
   ]
  },
  {
   "cell_type": "code",
   "execution_count": 6,
   "metadata": {},
   "outputs": [],
   "source": [
    "# Crear el objeto conn para conectar con la BD usando el método .connect\n",
    "conn = sqlite3.connect('nba.sqlite')"
   ]
  },
  {
   "cell_type": "code",
   "execution_count": null,
   "metadata": {},
   "outputs": [],
   "source": [
    "# Crear un cursor (herramienta que permite enviar consultas SQL a la BD)\n",
    "cursor = conn.cursor()"
   ]
  },
  {
   "cell_type": "code",
   "execution_count": null,
   "metadata": {},
   "outputs": [],
   "source": [
    "# Ejecuta una consulta SQL que obtiene los nombres de todas las tablas en la BD\n",
    "cursor.execute(\"SELECT name FROM sqlite_master WHERE type='table';\") # sqlite_master es una tabla interna de SQLite que almacena metadatos sobre la BD\n",
    "tablas = cursor.fetchall() # fetchall() recupera todos los resultados de la consulta"
   ]
  },
  {
   "cell_type": "code",
   "execution_count": null,
   "metadata": {},
   "outputs": [
    {
     "name": "stdout",
     "output_type": "stream",
     "text": [
      "Tablas en la base de datos: []\n"
     ]
    }
   ],
   "source": [
    "# Imprimir los nombres de las tablas\n",
    "print(\"Tablas en la base de datos:\", tablas) # Al ejecutar obtenemos una lista vacía, por lo que o el archivo no contiene tablas o Python no las está reconociendo como tales. "
   ]
  }
 ],
 "metadata": {
  "colab": {
   "provenance": []
  },
  "kernelspec": {
   "display_name": "Python 3",
   "language": "python",
   "name": "python3"
  },
  "language_info": {
   "codemirror_mode": {
    "name": "ipython",
    "version": 3
   },
   "file_extension": ".py",
   "mimetype": "text/x-python",
   "name": "python",
   "nbconvert_exporter": "python",
   "pygments_lexer": "ipython3",
   "version": "3.10.8"
  }
 },
 "nbformat": 4,
 "nbformat_minor": 0
}
