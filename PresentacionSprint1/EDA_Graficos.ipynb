{
 "cells": [
  {
   "cell_type": "markdown",
   "metadata": {},
   "source": [
    "### Librerias"
   ]
  },
  {
   "cell_type": "code",
   "execution_count": null,
   "metadata": {},
   "outputs": [],
   "source": [
    "import numpy as np\n",
    "import pandas as pd \n",
    "import matplotlib.pyplot as plt\n",
    "import seaborn as sns"
   ]
  },
  {
   "cell_type": "markdown",
   "metadata": {},
   "source": [
    "### Importamos las tablas a usar en nuestra Análisis Exploratorio"
   ]
  },
  {
   "cell_type": "code",
   "execution_count": null,
   "metadata": {},
   "outputs": [],
   "source": [
    "games_lakers = pd.read_csv(\"../ETL/games_lakers_reordenado.csv\")"
   ]
  },
  {
   "cell_type": "code",
   "execution_count": null,
   "metadata": {},
   "outputs": [],
   "source": [
    "games_lakers"
   ]
  },
  {
   "cell_type": "code",
   "execution_count": null,
   "metadata": {},
   "outputs": [],
   "source": [
    "lakers_21_24 = pd.read_csv(\"../ETL/lakers_21_24.csv\")"
   ]
  },
  {
   "cell_type": "code",
   "execution_count": null,
   "metadata": {},
   "outputs": [],
   "source": [
    "lakers_21_24"
   ]
  },
  {
   "cell_type": "markdown",
   "metadata": {},
   "source": [
    "### Gráficos de EDA de la tabla games_lakers"
   ]
  },
  {
   "cell_type": "markdown",
   "metadata": {},
   "source": [
    "- Grafico de calor para comparar las victorias y derrotas de LAL como visitante y como local"
   ]
  },
  {
   "cell_type": "code",
   "execution_count": null,
   "metadata": {},
   "outputs": [],
   "source": [
    "# Asegúrate de que game_date esté en formato datetime y extrae el año\n",
    "games_lakers['game_date'] = pd.to_datetime(games_lakers['game_date'])\n",
    "games_lakers['year'] = games_lakers['game_date'].dt.year\n",
    "\n",
    "# Filtrar solo los registros donde team_name_home sea \"Los Angeles Lakers\"\n",
    "lakers_home_games = games_lakers[games_lakers['team_name_home'] == 'Los Angeles Lakers']\n",
    "\n",
    "# Crear una tabla de contingencia con wl_home y año\n",
    "heatmap_home_data = pd.crosstab(lakers_home_games['year'], lakers_home_games['wl_home'])\n",
    "\n",
    "# Crear un mapa de calor\n",
    "plt.figure(figsize=(10, 6))\n",
    "sns.heatmap(heatmap_home_data, annot=True, cmap='coolwarm', fmt='d', linewidths=0.5)\n",
    "plt.title('Mapa de Calor: Resultados en Casa de Los Angeles Lakers por Año', fontsize=14)\n",
    "plt.xlabel('Resultado (W o L)', fontsize=12)\n",
    "plt.ylabel('Año', fontsize=12)\n",
    "plt.show()\n"
   ]
  },
  {
   "cell_type": "code",
   "execution_count": null,
   "metadata": {},
   "outputs": [],
   "source": [
    "# Filtrar solo los registros donde team_name_away sea \"Los Angeles Lakers\"\n",
    "lakers_away_games = games_lakers[games_lakers['team_name_away'] == 'Los Angeles Lakers']\n",
    "\n",
    "# Crear una tabla de contingencia con wl_away y año\n",
    "heatmap_away_data = pd.crosstab(lakers_away_games['year'], lakers_away_games['wl_away'])\n",
    "\n",
    "# Crear un mapa de calor\n",
    "plt.figure(figsize=(10, 6))\n",
    "sns.heatmap(heatmap_away_data, annot=True, cmap='coolwarm', fmt='d', linewidths=0.5)\n",
    "plt.title('Mapa de Calor: Resultados como Visitante de Los Angeles Lakers por Año', fontsize=14)\n",
    "plt.xlabel('Resultado (W o L)', fontsize=12)\n",
    "plt.ylabel('Año', fontsize=12)\n",
    "plt.show()"
   ]
  },
  {
   "cell_type": "code",
   "execution_count": null,
   "metadata": {},
   "outputs": [],
   "source": [
    "# Crear subplots para los mapas de calor\n",
    "fig, axes = plt.subplots(1, 2, figsize=(16, 6), sharey=True)\n",
    "\n",
    "# Mapa de calor: Resultados en casa\n",
    "sns.heatmap(heatmap_home_data, annot=True, fmt='d', cmap='coolwarm', cbar=False, ax=axes[0], linewidths=0.5, \n",
    "            annot_kws={\"size\": 14})\n",
    "axes[0].set_title('Resultados en Casa de Los Angeles Lakers', fontsize=18)\n",
    "axes[0].set_xlabel('Resultado (W o L)', fontsize=16)\n",
    "axes[0].set_ylabel('Año', fontsize=16)\n",
    "\n",
    "# Mapa de calor: Resultados como visitante\n",
    "sns.heatmap(heatmap_away_data, annot=True, fmt='d', cmap='coolwarm', cbar=False, ax=axes[1], linewidths=0.5, \n",
    "            annot_kws={\"size\": 16})\n",
    "axes[1].set_title('Resultados como Visitante de Los Angeles Lakers', fontsize=18)\n",
    "axes[1].set_xlabel('Resultado (W o L)', fontsize=16)\n",
    "axes[1].set_ylabel('') \n",
    "plt.tight_layout()\n",
    "plt.show()\n"
   ]
  },
  {
   "cell_type": "markdown",
   "metadata": {},
   "source": [
    "- Gráfico de barra donde se aprecia una comparación entre promedio de distintas metricas cuando LAL juega como local y como visitante"
   ]
  },
  {
   "cell_type": "code",
   "execution_count": null,
   "metadata": {},
   "outputs": [],
   "source": [
    "# Filtrar los juegos donde team_name_home y team_name_away sean \"Los Angeles Lakers\"\n",
    "lakers_home_games = games_lakers[games_lakers['team_name_home'] == 'Los Angeles Lakers']\n",
    "lakers_away_games = games_lakers[games_lakers['team_name_away'] == 'Los Angeles Lakers']\n",
    "\n",
    "# Seleccionar las columnas relevantes para casa y visitante\n",
    "columns_home = [\n",
    "    'fgm_home', 'fga_home', 'fg_pct_home', 'fg3m_home', 'fg3a_home', 'fg3_pct_home',\n",
    "    'ftm_home', 'fta_home', 'ft_pct_home', 'oreb_home', 'dreb_home', 'reb_home',\n",
    "    'ast_home', 'stl_home', 'blk_home', 'tov_home', 'pf_home', 'pts_home'\n",
    "]\n",
    "columns_away = [\n",
    "    'fgm_away', 'fga_away', 'fg_pct_away', 'fg3m_away', 'fg3a_away', 'fg3_pct_away',\n",
    "    'ftm_away', 'fta_away', 'ft_pct_away', 'oreb_away', 'dreb_away', 'reb_away',\n",
    "    'ast_away', 'stl_away', 'blk_away', 'tov_away', 'pf_away', 'pts_away'\n",
    "]\n",
    "\n",
    "# Calcular los promedios\n",
    "averages_home = lakers_home_games[columns_home].mean()\n",
    "averages_away = lakers_away_games[columns_away].mean()\n",
    "\n",
    "# Renombrar las columnas para que sean comparables\n",
    "averages_home.index = [col.replace('_home', '') for col in averages_home.index]\n",
    "averages_away.index = [col.replace('_away', '') for col in averages_away.index]\n",
    "\n",
    "# Crear un DataFrame combinado\n",
    "averages_combined = pd.DataFrame({'Local': averages_home, 'Visitante': averages_away})\n",
    "\n",
    "# Crear un gráfico de barras agrupadas\n",
    "plt.figure(figsize=(14, 7))\n",
    "averages_combined.plot(kind='bar', width=0.8, color=['#020940', '#dd4605'], edgecolor='black')\n",
    "plt.title('Promedio de Métricas - Los Angeles Lakers (Local vs Visitante)', fontsize=16)\n",
    "plt.xlabel('Métricas', fontsize=12)\n",
    "plt.ylabel('Promedio', fontsize=12)\n",
    "plt.xticks(rotation=45, ha='right')\n",
    "plt.legend(title='Condición')\n",
    "plt.grid(axis='y', alpha=0.5)\n",
    "plt.tight_layout()\n",
    "plt.show()\n"
   ]
  },
  {
   "cell_type": "code",
   "execution_count": null,
   "metadata": {},
   "outputs": [],
   "source": [
    "# Filtrar los datos según las condiciones dadas\n",
    "lakers_lost = games_lakers[(games_lakers['team_name_home'] == 'Los Angeles Lakers') & (games_lakers['wl_home'] == 'L')]\n",
    "\n",
    "# Contar las ocurrencias de cada equipo en team_name_away\n",
    "away_team_counts = lakers_lost['team_name_away'].value_counts().reset_index()\n",
    "away_team_counts.columns = ['team_name_away', 'count']\n",
    "\n",
    "# Crear el gráfico de barras\n",
    "plt.figure(figsize=(14, 8))\n",
    "sns.barplot(data=away_team_counts, x='count', y='team_name_away', palette=\"Oranges\")\n",
    "plt.title(\"Cantidad de Veces que los Equipos Visitantes Perdieron contra los Lakers en Casa\", fontsize=20)\n",
    "plt.xlabel(\"Cantidad de Veces\", fontsize=16)\n",
    "plt.ylabel(\"Equipo Visitante\", fontsize=16)\n",
    "plt.xticks(fontsize=14)\n",
    "plt.yticks(fontsize=14)\n",
    "plt.grid(axis=\"x\", linestyle=\"--\", alpha=0.7)\n",
    "plt.tight_layout()\n",
    "plt.show()"
   ]
  },
  {
   "cell_type": "markdown",
   "metadata": {},
   "source": [
    "### Gráficos de EDA de la tabla lakers_21_24"
   ]
  },
  {
   "cell_type": "markdown",
   "metadata": {},
   "source": [
    "- Gráfico de barras que muestra el promedio de LAL de diferentes Métricas por temporada"
   ]
  },
  {
   "cell_type": "code",
   "execution_count": null,
   "metadata": {},
   "outputs": [],
   "source": [
    "# Seleccionar métricas relevantes\n",
    "metrics = [\"PTS\", \"AST\", \"TRB\", \"FG%\", \"3P%\", \"FT%\"]\n",
    "\n",
    "# Calcular promedios por temporada\n",
    "average_metrics = lakers_21_24.groupby(\"season_year\")[metrics].mean().reset_index()\n",
    "\n",
    "# Transformar los datos para facilitar la visualización\n",
    "average_metrics_melted = average_metrics.melt(id_vars=[\"season_year\"], \n",
    "                                               var_name=\"Métrica\", \n",
    "                                               value_name=\"Promedio\")\n",
    "\n",
    "# Crear el gráfico con ajustes de tamaño de letra\n",
    "plt.figure(figsize=(14, 8))\n",
    "sns.barplot(data=average_metrics_melted, x=\"season_year\", y=\"Promedio\", hue=\"Métrica\", palette=\"coolwarm\")\n",
    "plt.title(\"Promedio de Métricas por Temporada\", fontsize=20)\n",
    "plt.xlabel(\"Temporada\", fontsize=16)\n",
    "plt.ylabel(\"Promedio\", fontsize=16)\n",
    "plt.legend(title=\"Métrica\", fontsize=14, title_fontsize=16)\n",
    "plt.xticks(fontsize=14, rotation=45)\n",
    "plt.yticks(fontsize=14)\n",
    "\n",
    "# Ajustes de cuadrícula y espacio\n",
    "plt.grid(axis=\"y\", linestyle=\"--\", alpha=0.7)\n",
    "plt.tight_layout()\n",
    "plt.show()"
   ]
  },
  {
   "cell_type": "markdown",
   "metadata": {},
   "source": [
    "- Gráfico de Barras que muestra el promedio de eficiencia de tiros filtrados por la posición que ocupan los jugadores"
   ]
  },
  {
   "cell_type": "code",
   "execution_count": null,
   "metadata": {},
   "outputs": [],
   "source": [
    "# Seleccionar las columnas relevantes\n",
    "columns = [\"Pos\", \"FG%\", \"3P%\", \"FT%\"]\n",
    "\n",
    "# Calcular el promedio de eficiencia de tiros por posición\n",
    "efficiency_by_pos = lakers_21_24.groupby(\"Pos\")[[\"FG%\", \"3P%\", \"FT%\"]].mean().reset_index()\n",
    "\n",
    "# Graficar el promedio de eficiencia\n",
    "efficiency_by_pos_melted = efficiency_by_pos.melt(id_vars=[\"Pos\"], value_vars=[\"FG%\", \"3P%\", \"FT%\"],\n",
    "                                                  var_name=\"Métrica\", value_name=\"Porcentaje\")\n",
    "\n",
    "plt.figure(figsize=(12, 6))\n",
    "sns.barplot(data=efficiency_by_pos_melted, x=\"Pos\", y=\"Porcentaje\", hue=\"Métrica\", palette=\"Oranges\")\n",
    "\n",
    "# Aumentar tamaño de las letras\n",
    "plt.title(\"Promedio de Eficiencia de Tiros por Posición\", fontsize=20)\n",
    "plt.xlabel(\"Posición\", fontsize=16)\n",
    "plt.ylabel(\"Porcentaje (%)\", fontsize=16)\n",
    "plt.legend(title=\"Métricas de Tiro\", fontsize=14, title_fontsize=16)\n",
    "plt.xticks(fontsize=14)\n",
    "plt.yticks(fontsize=14)\n",
    "\n",
    "# Agregar cuadrícula y mostrar\n",
    "plt.grid(axis=\"y\", linestyle=\"--\", alpha=0.7)\n",
    "plt.tight_layout()\n",
    "plt.show()"
   ]
  },
  {
   "cell_type": "markdown",
   "metadata": {},
   "source": [
    "- Diágrama de dispersión que relaciona la Edad de los jugadores y los puntos realizados en las temporadas 21-24. Se puede apreciar también la posicion que ocupan dichos jugadores"
   ]
  },
  {
   "cell_type": "code",
   "execution_count": null,
   "metadata": {},
   "outputs": [],
   "source": [
    "plt.figure(figsize=(10, 6))\n",
    "sns.scatterplot(data=lakers_21_24, x=\"Age\", y=\"PTS\", hue=\"Pos\", palette=\"coolwarm\", s=100)\n",
    "plt.title(\"Relación entre Edad y Puntos Realizados\")\n",
    "plt.xlabel(\"Edad\")\n",
    "plt.ylabel(\"Puntos (PTS)\")\n",
    "plt.legend(title=\"Posición\")\n",
    "plt.grid(True)\n",
    "plt.show()"
   ]
  },
  {
   "cell_type": "markdown",
   "metadata": {},
   "source": [
    "- Gráfico de barras horizontales que muestra la eficiencia de tiro de los 5 mejores anotadores etre las temporadas que abaran 2021-204"
   ]
  },
  {
   "cell_type": "code",
   "execution_count": null,
   "metadata": {},
   "outputs": [],
   "source": [
    "# Calcular el promedio de puntos por jugador y seleccionar el top 5\n",
    "top_5_scorers = lakers_21_24.groupby(\"Player\")[\"PTS\"].mean().nlargest(5).index\n",
    "top_5_data = lakers_21_24[lakers_21_24[\"Player\"].isin(top_5_scorers)]\n",
    "\n",
    "# Elegir métricas de eficiencia relevantes\n",
    "efficiency_metrics = [\"FG%\", \"3P%\", \"FT%\", \"eFG%\"]\n",
    "\n",
    "# Transformar los datos para graficar\n",
    "top_5_efficiency = top_5_data.groupby(\"Player\")[efficiency_metrics].mean().reset_index()\n",
    "top_5_efficiency_melted = top_5_efficiency.melt(id_vars=[\"Player\"], \n",
    "                                                value_vars=efficiency_metrics, \n",
    "                                                var_name=\"Métrica\", \n",
    "                                                value_name=\"Valor\")\n",
    "\n",
    "# Crear el gráfico de barras agrupadas horizontal\n",
    "plt.figure(figsize=(22, 16))\n",
    "sns.barplot(data=top_5_efficiency_melted, y=\"Player\", x=\"Valor\", hue=\"Métrica\", palette=\"YlOrRd\")\n",
    "\n",
    "plt.title(\"Eficiencia de Tiros de los 5 Mejores Anotadores\", fontsize=24)\n",
    "plt.ylabel(\"Jugadores\", fontsize=22)  \n",
    "plt.xlabel(\"Porcentaje (%)\", fontsize=22)\n",
    "plt.legend(title=\"Métrica\", fontsize=20, title_fontsize=20) \n",
    "plt.xticks(fontsize=20, rotation=45)  \n",
    "plt.yticks(fontsize=20)\n",
    "\n",
    "# Cuadrícula y diseño\n",
    "plt.grid(axis=\"y\", linestyle=\"--\", alpha=0.7)\n",
    "plt.tight_layout()\n",
    "plt.show()"
   ]
  },
  {
   "cell_type": "markdown",
   "metadata": {},
   "source": [
    "- Gráfico de barras horizontales que muestra la eficiencia de tiro de los 5 peores anotadores etre las temporadas que abarcan 2021-204"
   ]
  },
  {
   "cell_type": "code",
   "execution_count": null,
   "metadata": {},
   "outputs": [],
   "source": [
    "# Calcular el promedio de puntos por jugador y seleccionar el top 5 de los peores jugadores\n",
    "bottom_5_scorers = (lakers_21_24.loc[lakers_21_24[\"PTS\"] > 0]\n",
    "                .groupby(\"Player\")[\"PTS\"]\n",
    "                .mean()\n",
    "                .nsmallest(5)\n",
    "                .index)\n",
    "bottom_5_data = lakers_21_24[lakers_21_24[\"Player\"].isin(bottom_5_scorers)]\n",
    "\n",
    "# Transformar los datos para graficar\n",
    "bottom_5_efficiency = bottom_5_data.groupby(\"Player\")[efficiency_metrics].mean().reset_index()\n",
    "bottom_5_efficiency_melted = bottom_5_efficiency.melt(id_vars=[\"Player\"], \n",
    "                                                    value_vars=efficiency_metrics, \n",
    "                                                    var_name=\"Métrica\", \n",
    "                                                    value_name=\"Valor\")\n",
    "\n",
    "# Crear el gráfico de barras agrupadas horizontal\n",
    "plt.figure(figsize=(22, 16))\n",
    "sns.barplot(data=bottom_5_efficiency_melted, y=\"Player\", x=\"Valor\", hue=\"Métrica\", palette=\"YlGnBu\")\n",
    "\n",
    "# Diseño\n",
    "plt.title(\"Eficiencia de Tiros de los 5 Peores Anotadores\", fontsize=24)  \n",
    "plt.xlabel(\"Porcentaje (%)\", fontsize=22)  \n",
    "plt.ylabel(\"Jugador\", fontsize=22) \n",
    "plt.legend(title=\"Métrica\", fontsize=20, title_fontsize=20, loc='lower right')\n",
    "plt.xticks(fontsize=20, rotation=45)  \n",
    "plt.yticks(fontsize=20)  \n",
    "\n",
    "# Cuadrícula y diseño\n",
    "plt.grid(axis=\"y\", linestyle=\"--\", alpha=0.7)\n",
    "plt.tight_layout()\n",
    "plt.show()\n"
   ]
  },
  {
   "cell_type": "markdown",
   "metadata": {},
   "source": [
    "- Matriz de correlación que muestra las relaciones entre diferentes métricas clave de desempeño para los Los Angeles Lakers."
   ]
  },
  {
   "cell_type": "code",
   "execution_count": null,
   "metadata": {},
   "outputs": [],
   "source": [
    "# Filtrar solo las columnas deseadas\n",
    "selected_columns = [\"FG%\", \"3P%\", \"2P%\", \"eFG%\", \"FT%\", \"ORB\", \"DRB\", \"TRB\", \"AST\", \"STL\", \"BLK\", \"TOV\", \"PF\", \"PTS\"]\n",
    "filtered_data = lakers_21_24[selected_columns]\n",
    "\n",
    "# Calcular la matriz de correlación\n",
    "correlation_matrix = filtered_data.corr()\n",
    "\n",
    "# Crear el heatmap\n",
    "plt.figure(figsize=(14, 10))\n",
    "sns.heatmap(correlation_matrix, annot=True, cmap=\"coolwarm\", fmt=\".2f\", linewidths=0.5)\n",
    "plt.title(\"Matriz de Correlación de Estadísticas Clave de los Lakers\", fontsize=20)\n",
    "plt.xticks(fontsize=12, rotation=45)\n",
    "plt.yticks(fontsize=12)\n",
    "plt.tight_layout()\n",
    "plt.show()"
   ]
  },
  {
   "cell_type": "markdown",
   "metadata": {},
   "source": [
    "- Diágrama de dispersión que explora la relacióes entre dos métricas que mostraron tener alta relación en la Matriz de correlación."
   ]
  },
  {
   "cell_type": "code",
   "execution_count": null,
   "metadata": {},
   "outputs": [],
   "source": [
    "sns.scatterplot(data=lakers_21_24, x=\"BLK\", y=\"PTS\", hue=\"Pos\")\n",
    "\n",
    "plt.title('Relacion entre puntos y bloqueos por posicion')\n",
    "plt.xlabel('Rebotes')\n",
    "plt.ylabel('Puntos')\n",
    "plt.legend(loc=\"lower right\", bbox_to_anchor=(1, 0))"
   ]
  },
  {
   "cell_type": "code",
   "execution_count": null,
   "metadata": {},
   "outputs": [],
   "source": [
    "sns.scatterplot(data=lakers_21_24, x=\"TRB\", y=\"PTS\", hue=\"Pos\")\n",
    "\n",
    "plt.title('Relacion entre puntos y rebotes defensivos/ofensivos por posicion')\n",
    "plt.xlabel('Rebotes')\n",
    "plt.ylabel('Puntos')\n",
    "plt.legend(loc=\"lower right\", bbox_to_anchor=(1, 0))"
   ]
  },
  {
   "cell_type": "markdown",
   "metadata": {},
   "source": [
    "- Grafico barras horizontales del top de Jugadores de LAL con mejor promedio de puntos, triples y asistencias."
   ]
  },
  {
   "cell_type": "code",
   "execution_count": null,
   "metadata": {},
   "outputs": [],
   "source": [
    "# Seleccionar el top 3 de jugadores para cada métrica\n",
    "top_3_pts = lakers_21_24.groupby(\"Player\")[\"PTS\"].mean().nlargest(3).index\n",
    "top_3_3p = lakers_21_24.groupby(\"Player\")[\"3P\"].mean().nlargest(3).index\n",
    "top_3_ast = lakers_21_24.groupby(\"Player\")[\"AST\"].mean().nlargest(3).index\n",
    "\n",
    "# Consolidar los datos del top 3 de cada métrica\n",
    "top_players = set(top_3_pts).union(set(top_3_3p)).union(set(top_3_ast))\n",
    "top_data = lakers_21_24[lakers_21_24[\"Player\"].isin(top_players)]\n",
    "\n",
    "# Crear un DataFrame con los promedios\n",
    "metrics = [\"PTS\", \"3P\", \"AST\"]\n",
    "top_metrics = top_data.groupby(\"Player\")[metrics].mean().reset_index()\n",
    "top_metrics_melted = top_metrics.melt(id_vars=[\"Player\"], \n",
    "                                      value_vars=metrics, \n",
    "                                      var_name=\"Métrica\", \n",
    "                                      value_name=\"Valor\")\n",
    "\n",
    "# Crear el gráfico de barras agrupadas horizontal\n",
    "plt.figure(figsize=(16, 10))\n",
    "sns.barplot(data=top_metrics_melted, y=\"Player\", x=\"Valor\", hue=\"Métrica\", palette=\"Blues\")\n",
    "\n",
    "# Personalizar etiquetas y diseño\n",
    "plt.title(\"Top de Jugadores en Puntos, Triples y Asistencias\", fontsize=20)\n",
    "plt.ylabel(\"Jugador\", fontsize=16)\n",
    "plt.xlabel(\"Promedio\", fontsize=16)\n",
    "plt.legend(title=\"Métrica\", fontsize=12, title_fontsize=14)\n",
    "plt.yticks(fontsize=14)\n",
    "plt.xticks(fontsize=14)\n",
    "plt.grid(axis=\"x\",  linestyle=\"\",alpha=0.7)\n",
    "plt.tight_layout()\n",
    "plt.show()"
   ]
  },
  {
   "cell_type": "markdown",
   "metadata": {},
   "source": [
    "- Grafico de Barras horizontales de Top de Jugadores con los peores promedios en puntos, triples y asistencias. "
   ]
  },
  {
   "cell_type": "code",
   "execution_count": null,
   "metadata": {},
   "outputs": [],
   "source": [
    "# Seleccionar el bottom 3 de jugadores para cada métrica\n",
    "bottom_3_pts = (lakers_21_24.loc[lakers_21_24[\"PTS\"] > 0]\n",
    "                .groupby(\"Player\")[\"PTS\"]\n",
    "                .mean()\n",
    "                .nsmallest(3)\n",
    "                .index)\n",
    "\n",
    "bottom_3_3p = (lakers_21_24.loc[lakers_21_24[\"3P\"] > 0]\n",
    "                .groupby(\"Player\")[\"3P\"]\n",
    "                .mean()\n",
    "                .nsmallest(3)\n",
    "                .index)\n",
    "\n",
    "bottom_3_ast = (lakers_21_24.loc[lakers_21_24[\"AST\"] > 0]\n",
    "                .groupby(\"Player\")[\"AST\"]\n",
    "                .mean()\n",
    "                .nsmallest(3)\n",
    "                .index)\n",
    "\n",
    "# Consolidar los datos del bottom 3 de cada métrica\n",
    "bottom_players = set(bottom_3_pts).union(set(bottom_3_3p)).union(set(bottom_3_ast))\n",
    "bottom_data = lakers_21_24[lakers_21_24[\"Player\"].isin(bottom_players)]\n",
    "\n",
    "# Crear un DataFrame con los promedios\n",
    "metrics = [\"PTS\", \"3P\", \"AST\"]\n",
    "bottom_metrics = bottom_data.groupby(\"Player\")[metrics].mean().reset_index()\n",
    "bottom_metrics_melted = bottom_metrics.melt(id_vars=[\"Player\"], \n",
    "                                            value_vars=metrics, \n",
    "                                            var_name=\"Métrica\", \n",
    "                                            value_name=\"Valor\")\n",
    "\n",
    "# Crear el gráfico de barras agrupadas horizontal\n",
    "plt.figure(figsize=(16, 10))\n",
    "sns.barplot(data=bottom_metrics_melted, y=\"Player\", x=\"Valor\", hue=\"Métrica\", palette=\"YlOrRd\")\n",
    "\n",
    "# Personalizar etiquetas y diseño\n",
    "plt.title(\"Jugadores con Peor Promedio en Puntos, Triples y Asistencias\", fontsize=20)\n",
    "plt.ylabel(\"Jugador\", fontsize=16)\n",
    "plt.xlabel(\"Promedio\", fontsize=16)\n",
    "plt.legend(title=\"Métrica\", fontsize=12, title_fontsize=14)\n",
    "plt.yticks(fontsize=14)\n",
    "plt.xticks(fontsize=14)\n",
    "plt.grid(axis=\"x\", linestyle=\"\", alpha=0.7)\n",
    "plt.tight_layout()\n",
    "plt.show()\n"
   ]
  },
  {
   "cell_type": "markdown",
   "metadata": {},
   "source": [
    "- Grafico de barras horizontales de Jugadores con peor desempeño en metricas defensivas."
   ]
  },
  {
   "cell_type": "code",
   "execution_count": null,
   "metadata": {},
   "outputs": [],
   "source": [
    "# Seleccionar el bottom 3 de jugadores para cada métrica\n",
    "bottom_3_drb = (lakers_21_24.loc[lakers_21_24[\"DRB\"] > 0]\n",
    "                .groupby(\"Player\")[\"DRB\"]\n",
    "                .mean()\n",
    "                .nsmallest(3)\n",
    "                .index)\n",
    "\n",
    "bottom_3_blk = (lakers_21_24.loc[lakers_21_24[\"BLK\"] > 0]\n",
    "                .groupby(\"Player\")[\"BLK\"]\n",
    "                .mean()\n",
    "                .nsmallest(3)\n",
    "                .index)\n",
    "\n",
    "bottom_3_stl = (lakers_21_24.loc[lakers_21_24[\"STL\"] > 0]\n",
    "                .groupby(\"Player\")[\"STL\"]\n",
    "                .mean()\n",
    "                .nsmallest(3)\n",
    "                .index)\n",
    "\n",
    "# Consolidar los datos del bottom 3 de cada métrica\n",
    "bottom_players = set(bottom_3_drb).union(set(bottom_3_blk)).union(set(bottom_3_stl))\n",
    "bottom_data = lakers_21_24[lakers_21_24[\"Player\"].isin(bottom_players)]\n",
    "\n",
    "# Crear un DataFrame con los promedios\n",
    "metrics = [\"DRB\", \"BLK\", \"STL\"]\n",
    "bottom_metrics = bottom_data.groupby(\"Player\")[metrics].mean().reset_index()\n",
    "bottom_metrics_melted = bottom_metrics.melt(id_vars=[\"Player\"], \n",
    "                                            value_vars=metrics, \n",
    "                                            var_name=\"Métrica\", \n",
    "                                            value_name=\"Valor\")\n",
    "\n",
    "# Crear el gráfico de barras agrupadas horizontal\n",
    "plt.figure(figsize=(16, 10))\n",
    "sns.barplot(data=bottom_metrics_melted, y=\"Player\", x=\"Valor\", hue=\"Métrica\", palette=\"YlOrRd\")\n",
    "\n",
    "# Personalizar etiquetas y diseño\n",
    "plt.title(\"Jugadores con Peor Promedio en Rebotes Defensivos, Bloqueos y Robos\", fontsize=20)\n",
    "plt.ylabel(\"Jugador\", fontsize=16)\n",
    "plt.xlabel(\"Promedio\", fontsize=16)\n",
    "plt.legend(title=\"Métrica\", fontsize=12, title_fontsize=14)\n",
    "plt.yticks(fontsize=14)\n",
    "plt.xticks(fontsize=14)\n",
    "plt.grid(axis=\"x\", linestyle=\"\", alpha=0.7)\n",
    "plt.tight_layout()\n",
    "plt.show()"
   ]
  },
  {
   "cell_type": "markdown",
   "metadata": {},
   "source": [
    "- Gráfico de barras horizontales de los Jugadores con mejor promedio en metricas defensivas."
   ]
  },
  {
   "cell_type": "code",
   "execution_count": null,
   "metadata": {},
   "outputs": [],
   "source": [
    "# Seleccionar el top 3 de jugadores para cada métrica\n",
    "top_3_drb = lakers_21_24.groupby(\"Player\")[\"DRB\"].mean().nlargest(3).index\n",
    "top_3_blk = lakers_21_24.groupby(\"Player\")[\"BLK\"].mean().nlargest(3).index\n",
    "top_3_stl = lakers_21_24.groupby(\"Player\")[\"STL\"].mean().nlargest(3).index\n",
    "\n",
    "# Consolidar los datos del top 3 de cada métrica\n",
    "top_players = set(top_3_drb).union(set(top_3_blk)).union(set(top_3_stl))\n",
    "top_data = lakers_21_24[lakers_21_24[\"Player\"].isin(top_players)]\n",
    "\n",
    "# Crear un DataFrame con los promedios\n",
    "metrics = [\"DRB\", \"BLK\", \"STL\"]\n",
    "top_metrics = top_data.groupby(\"Player\")[metrics].mean().reset_index()\n",
    "top_metrics_melted = top_metrics.melt(id_vars=[\"Player\"], \n",
    "                                      value_vars=metrics, \n",
    "                                      var_name=\"Métrica\", \n",
    "                                      value_name=\"Valor\")\n",
    "\n",
    "# Crear el gráfico de barras agrupadas horizontal\n",
    "plt.figure(figsize=(16, 10))\n",
    "sns.barplot(data=top_metrics_melted, y=\"Player\", x=\"Valor\", hue=\"Métrica\", palette=\"Blues\")\n",
    "\n",
    "# Personalizar etiquetas y diseño\n",
    "plt.title(\"Jugadores con Mejor Promedio en Rebotes Defensivos, Bloqueos y Robos\", fontsize=22)\n",
    "plt.ylabel(\"Jugador\", fontsize=18)\n",
    "plt.xlabel(\"Promedio\", fontsize=20)\n",
    "plt.legend(title=\"Métrica\", fontsize=18, title_fontsize=20)\n",
    "plt.yticks(fontsize=14)\n",
    "plt.xticks(fontsize=14)\n",
    "plt.grid(axis=\"x\", linestyle=\"\", alpha=0.7)\n",
    "plt.tight_layout()\n",
    "plt.show()"
   ]
  }
 ],
 "metadata": {
  "kernelspec": {
   "display_name": "Python 3",
   "language": "python",
   "name": "python3"
  },
  "language_info": {
   "codemirror_mode": {
    "name": "ipython",
    "version": 3
   },
   "file_extension": ".py",
   "mimetype": "text/x-python",
   "name": "python",
   "nbconvert_exporter": "python",
   "pygments_lexer": "ipython3",
   "version": "3.13.2"
  }
 },
 "nbformat": 4,
 "nbformat_minor": 2
}
